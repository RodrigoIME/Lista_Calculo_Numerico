{
  "nbformat": 4,
  "nbformat_minor": 0,
  "metadata": {
    "colab": {
      "provenance": []
    },
    "kernelspec": {
      "name": "python3",
      "display_name": "Python 3"
    },
    "language_info": {
      "name": "python"
    }
  },
  "cells": [
    {
      "cell_type": "markdown",
      "metadata": {
        "id": "VAFiSW4Dvayk"
      },
      "source": [
        "# Questão"
      ]
    },
    {
      "cell_type": "markdown",
      "metadata": {
        "id": "rYpr12DKvVZF"
      },
      "source": [
        "A quantidade de energia solar, por unidade de tempo e por unidade de área que atingem o topo da atmosfera é chamada de Irradiância ($Watts/m^2$). Para o cálculo da Irradiância ($I$) no topo da atmosfera deve-se levar em conta a latitude local ($\\phi$), declinação solar ($\\delta$) e ângulo horário ($\\omega$).Sabendo-se que:\n",
        "1. $\\omega=(H -12)\\times 15º$, onde $H$ é a hora local .\n",
        "2. $I = 4921(\\sin\\delta\\cdot\\sin\\phi+\\cos\\delta\\cdot\\cos\\phi\\cdot\\cos\\omega)$\n",
        "\n",
        "Sabendo que no dia 16 de outubro numa cidade X foi mensurado a Irradiância nos horários 8h e 11 h e obteve respectivamente os valores: $2527.967 \\;\\;k J m^{-2} h^{-1}$; e  $4611.454 \\;\\;k J m^{-2} h^{-1}$\n",
        "\n",
        "a. Calcule  declinação solar ($\\delta$)\n",
        "\n",
        "b. Sabendo -se que a Longitude da cidade X é $-45° 53' 14''$, qual cidade brasileira foi realizada as medidas da Irradiância.\n",
        "\n",
        "c.O método de Broyden consiste basicamente em obter aproximações da matriz Jacobiana no decurso de cada iteração,utilizando a seguinte formulação:\n",
        "$$B_{k+1}= B_k + \\dfrac{f_{k+1}h_k^T}{\\|h_k \\|^2_2}$$\n",
        "onde $f$ é a função vetorial não-linear e $h$ é o passo. Então teremos o seguinte Algoritmo:\n",
        "\n",
        "**Entrada:**\n",
        " $x_0$, $f(x)$, $B_0$, $k_{max}$\n",
        " e tolerâncias ($\\tau 1$ e $\\tau 2$)\n",
        "\n",
        "$f_0 = f(x_0)$\n",
        "\n",
        "\n",
        "**Para** $k = 0 \\mapsto k_{max}$\n",
        "\n",
        "   \n",
        "\n",
        "> $B_{k}h_k = -f_k $\n",
        "\n",
        "> $x_{k+1} = x_k + h_k$\n",
        "\n",
        ">$f_{k+1} = f(x_{k+1})$\n",
        "\n",
        ">**Se** $\\| h_k \\|_2 < \\tau 1 + \\tau 2 \\| x_{k+1} \\|_2$ **Sair**\n",
        "\n",
        ">$B_{k+1}= B_k + \\dfrac{f_{k+1}h_k^T}{\\|h_k \\|^2_2}$\n",
        "\n",
        " **Fim do Para**\n",
        "\n",
        "\n",
        "Utilize o com $B_0$ a  Jacobiana do método de Newton no chute inicial do item **a**, $\\tau 1=\\tau 2= 10^{-3}$ e determine $\\delta$ e $\\phi$\n",
        "\n"
      ]
    },
    {
      "cell_type": "markdown",
      "metadata": {
        "id": "Xjz_R9JWvXN5"
      },
      "source": [
        "##Solução"
      ]
    },
    {
      "cell_type": "markdown",
      "metadata": {
        "id": "rIHFnDf4vhTR"
      },
      "source": [
        "### Item a"
      ]
    },
    {
      "cell_type": "code",
      "source": [],
      "metadata": {
        "id": "eHCV-K4itNit"
      },
      "execution_count": null,
      "outputs": []
    },
    {
      "cell_type": "markdown",
      "metadata": {
        "id": "l6WoLXY-wZP0"
      },
      "source": [
        "### Item b"
      ]
    },
    {
      "cell_type": "markdown",
      "metadata": {
        "id": "sDyijHBgwdXu"
      },
      "source": [
        "### Item c"
      ]
    },
    {
      "cell_type": "code",
      "source": [],
      "metadata": {
        "id": "WCsTBfA7E56-"
      },
      "execution_count": null,
      "outputs": []
    }
  ]
}